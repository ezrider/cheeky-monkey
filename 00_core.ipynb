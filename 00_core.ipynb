{
 "cells": [
  {
   "cell_type": "code",
   "execution_count": null,
   "metadata": {},
   "outputs": [],
   "source": [
    "# default_exp core"
   ]
  },
  {
   "cell_type": "markdown",
   "metadata": {},
   "source": [
    "# cheeky_monkey\n",
    "\n",
    "> API details."
   ]
  },
  {
   "cell_type": "code",
   "execution_count": null,
   "metadata": {},
   "outputs": [],
   "source": [
    "#hide\n",
    "from nbdev.showdoc import *\n",
    "\n",
    "from fastcore.test import *\n",
    "import altair as alt\n"
   ]
  },
  {
   "cell_type": "code",
   "execution_count": null,
   "metadata": {},
   "outputs": [],
   "source": [
    "#export\n",
    "import pandas as pd"
   ]
  },
  {
   "cell_type": "code",
   "execution_count": null,
   "metadata": {},
   "outputs": [],
   "source": [
    "#exporti\n",
    "\n",
    "\n",
    "def from_dob_to_age(row, born_fld, as_of_date_fld):\n",
    "    born = row[born_fld]\n",
    "    as_of_date = row[as_of_date_fld]\n",
    "    years = as_of_date.year - born.year - ((as_of_date.month, as_of_date.day) < (born.month, born.day))\n",
    "    \n",
    "    \n",
    "    if (as_of_date.day == born.day):\n",
    "        if as_of_date.month - born.month -1 < 0:\n",
    "            months = 12 + (as_of_date.month - born.month  )\n",
    "        else:\n",
    "            months = as_of_date.month - born.month\n",
    "    \n",
    "    elif (as_of_date.day <  born.day):\n",
    "        if as_of_date.month - born.month -1 < 0:\n",
    "            months = 12 + (as_of_date.month - born.month -1 )\n",
    "        else:\n",
    "            months = as_of_date.month - born.month\n",
    "    else:\n",
    "        if as_of_date.month - born.month < 0:\n",
    "            months = 12 + (as_of_date.month - born.month -1 )\n",
    "        else:\n",
    "            months = as_of_date.month - born.month\n",
    "    \n",
    "    if months >= 10.0:\n",
    "        reporting_age = years + 1\n",
    "    else:\n",
    "        reporting_age = years\n",
    "        \n",
    "    if (reporting_age % 2) == 1:\n",
    "        age_bucket = int(reporting_age) -1\n",
    "    else:\n",
    "        age_bucket = int(reporting_age)\n",
    "    \n",
    "    adjustedbirthdate = born + pd.offsets.DateOffset(years=years)\n",
    "    \n",
    "    bd_period = pd.Period(adjustedbirthdate, freq='D')\n",
    "    as_of_date_period=  pd.Period(as_of_date, freq='D')\n",
    "\n",
    "    days_to_birthdate = bd_period.day_of_year - as_of_date_period.day_of_year\n",
    "    if days_to_birthdate < 0.0: \n",
    "        days_to_birthdate = days_to_birthdate + 365\n",
    "    return years, months, reporting_age, age_bucket, days_to_birthdate"
   ]
  },
  {
   "cell_type": "code",
   "execution_count": null,
   "metadata": {},
   "outputs": [],
   "source": [
    "#exporti\n",
    "def derive_statuscount_percase(df_in, ftedays_df):\n",
    "    \"do some calculations\"\n",
    "    FTE_DAYS_YEAR = ftedays_df['FTE (Days)'].sum()\n",
    "    print('FTE_DAYS_YEAR', FTE_DAYS_YEAR)\n",
    "    aggregation = {\n",
    "        'Case Count': ('STATUS_COUNT','size'),\n",
    "        'Total Status Change Count': ('STATUS_COUNT','sum')\n",
    "    }    \n",
    "\n",
    "    # df = df_in.groupby(['ORIGIN_DSC']) \\\n",
    "    # .agg(** aggregation).reset_index()\n",
    "\n",
    "    # aggregation = {\n",
    "    #     'Case Count': ('DRIVERS_LICENSE_NO','size'),\n",
    "    #     'Status Count': ('STATUS_COUNT','sum'),\n",
    "    #     }\n",
    "\n",
    "    df = df_in.groupby([pd.Grouper(freq='M', key='CASE_OPENED_DT') , \n",
    "                                pd.Grouper(key='ORIGIN_DSC'),                                   \n",
    "                                ]).agg(** aggregation)\n",
    "\n",
    "    df = pd.DataFrame(df).reset_index()\n",
    "\n",
    "    df['Opened Month'] = df.apply(lambda x: x['CASE_OPENED_DT'].strftime('%b') + '-' + x['CASE_OPENED_DT'].strftime('%Y'), axis=1)\n",
    "    \n",
    "    #case_summary_data['Total Cases in Group'] = case_summary_data.groupby(['Origin Report'])['Cases'].transform(lambda x: sum(x) )\n",
    "    df['Total Cases In Month'] = df.groupby(['CASE_OPENED_DT'])['Case Count'].transform( lambda x: sum(x))\n",
    "    df['Total Status Changes In Month'] = df.groupby(['CASE_OPENED_DT'])['Total Status Change Count'].transform( lambda x: sum(x))\n",
    "    df['Monthly Status Changes/Case'] = df.apply(lambda x: x['Total Status Changes In Month']/x['Total Cases In Month']  , axis=1)\n",
    "\n",
    "\n",
    "    df['Group Status Changes/Case'] = df.apply(lambda x: x['Total Status Change Count']/x['Case Count']  , axis=1)\n",
    "    #Month-Year\tFTE (Days)\n",
    "    df = pd.merge(df, ftedays_df, how='left',  left_on='Opened Month', right_on='Month')\n",
    "    #df = df[df['Is Adjudicated'] == 'Adjudicated']\n",
    "    print('df shape ', df.shape)\n",
    "    case_count = df['Case Count'].sum()\n",
    "    status_change_count = df['Total Status Change Count'].sum()\n",
    "\n",
    "    df['Group Case Count/FTE'] = df.apply(lambda x: x['Case Count']/x['FTE (Days)']  , axis=1)\n",
    "    df['Group Status Change/FTE'] = df.apply(lambda x: x['Total Status Change Count']/x['FTE (Days)']  , axis=1)\n",
    "\n",
    "\n",
    "    print(f\"Adjudicated Case Count for 2018: {case_count:,}\")\n",
    "    print(f\"Adjudicated Status Change Count for 2018: {status_change_count:,}\" )\n",
    "    print(f\"Average Status Change Count/Case: {status_change_count/case_count : .2f}\" )\n",
    "\n",
    "    print(f\"Adjudicated Cases/FTE Day: {case_count/FTE_DAYS_YEAR : .2f}\") \n",
    "    print(f\"Status Changes/FTE Day: { status_change_count/FTE_DAYS_YEAR: .2f}\")\n",
    "#    print(f\"Monthly Team Capacity (Status Changes) { (status_change_count/FTE_DAYS_YEAR) * FTE_DAYS_MONTH: ,.2f}\" )\n",
    "\n",
    "\n",
    "    ftedays_case_count = FTE_DAYS_YEAR/case_count\n",
    "    ftedays_status_change_count = FTE_DAYS_YEAR/status_change_count\n",
    "    print(f\"FTE Days/Adjudicated Case: {ftedays_case_count : .3f}\")\n",
    "    print(f\"FTE Days/Status Change {ftedays_status_change_count: .3f}\") \n",
    "\n",
    "    return (df, ftedays_case_count, ftedays_status_change_count )"
   ]
  },
  {
   "cell_type": "code",
   "execution_count": null,
   "metadata": {},
   "outputs": [],
   "source": [
    "#exporti\n",
    "def imgs_save(image):\n",
    "    pass\n",
    "\n"
   ]
  },
  {
   "cell_type": "code",
   "execution_count": null,
   "metadata": {},
   "outputs": [],
   "source": [
    "test_eq( 'bla', 'bla')"
   ]
  },
  {
   "cell_type": "code",
   "execution_count": null,
   "metadata": {},
   "outputs": [],
   "source": []
  },
  {
   "cell_type": "code",
   "execution_count": null,
   "metadata": {},
   "outputs": [
    {
     "name": "stdout",
     "output_type": "stream",
     "text": [
      "Converted 00_core.ipynb.\n",
      "Converted 01_core.baseline.ipynb.\n",
      "Converted index.ipynb.\n"
     ]
    }
   ],
   "source": [
    "from nbdev.export import notebook2script; notebook2script()"
   ]
  }
 ],
 "metadata": {
  "kernelspec": {
   "display_name": "Python 3 (ipykernel)",
   "language": "python",
   "name": "python3"
  }
 },
 "nbformat": 4,
 "nbformat_minor": 2
}
