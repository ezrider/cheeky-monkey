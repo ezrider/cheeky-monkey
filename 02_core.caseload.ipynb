{
 "cells": [
  {
   "cell_type": "code",
   "execution_count": null,
   "id": "ee31d33f",
   "metadata": {},
   "outputs": [],
   "source": [
    "# default_exp core.caseload"
   ]
  },
  {
   "cell_type": "markdown",
   "id": "504c4395",
   "metadata": {},
   "source": [
    "## This code generates data for caseload analyis\n",
    "\n",
    "> When a case spans many months, data is created for each month of it's lifespan in order to perform a variety of analysis.  In this particular scenario, we want assess the impact by month and calulate the effort required.\n"
   ]
  },
  {
   "cell_type": "code",
   "execution_count": null,
   "id": "09afe5a0",
   "metadata": {},
   "outputs": [
    {
     "name": "stdout",
     "output_type": "stream",
     "text": [
      "The autoreload extension is already loaded. To reload it, use:\n",
      "  %reload_ext autoreload\n"
     ]
    }
   ],
   "source": [
    "#hide\n",
    "%load_ext autoreload\n",
    "%autoreload 2"
   ]
  },
  {
   "cell_type": "code",
   "execution_count": null,
   "id": "c005790b",
   "metadata": {},
   "outputs": [],
   "source": [
    "#export\n",
    "import pandas as pd\n",
    "import numpy  as np\n",
    "from datetime import datetime\n",
    "import altair as alt\n",
    "\n",
    "#from cheeky_monkey import *\n",
    "\n",
    "pd.set_option('display.max_columns', 30) # set so can see all columns of the DataFrame\n",
    "\n",
    "from vega_datasets import data\n",
    "_=alt.data_transformers.disable_max_rows()\n",
    "\n",
    "\n",
    "CESSATION_CONTINUATION = {\n",
    "    'Driver Deceased': 'Deceased', \n",
    "    'Drivers found medically unfit to drive':'Cessation',\n",
    "    'Drivers that did not respond; cancelled license':'Cessation',\n",
    "    'Drivers that voluntarily surrendered their license':'Cessation',\n",
    "    'Drivers ultimately found fit to drive':'Continuation',\n",
    "    'Cases remaining open at time of reporting':'Continuation'\n",
    "}\n",
    "\n"
   ]
  },
  {
   "cell_type": "code",
   "execution_count": null,
   "id": "f601b713",
   "metadata": {},
   "outputs": [],
   "source": [
    "#export\n",
    "def get_generated_caseload_data_bymonth(f_path):\n",
    "    filepath = f_path + 'caseloaddata_by_month.csv'\n",
    "    caseload_data_by_month = pd.read_csv(filepath,parse_dates=['CASE_OPENED_DT'])\n",
    "    caseload_data_by_month['Opened Month'] = caseload_data_by_month.apply(lambda x: x['CASE_OPENED_DT'].strftime('%b') + '-' + x['CASE_OPENED_DT'].strftime('%Y'), axis=1)\n",
    "    return caseload_data_by_month"
   ]
  },
  {
   "cell_type": "code",
   "execution_count": null,
   "id": "8eaf6677",
   "metadata": {},
   "outputs": [],
   "source": [
    "def get_processed_case_data(f_path):\n",
    "    file_path = f_path + 'cases_processed.csv'\n",
    "    cases_df = pd.read_csv(file_path,parse_dates=['BIRTHDATE','CASE_OPENED_DT','PREV_CASE_END_DT','LAST_STATUS_DATE'], dtype={'DRIVERS_LICENSE_NO': str})\n",
    "    cases_df = cases_df[(cases_df['Ignore Case'] == 0) ]\n",
    "    cases_df['Age Category'] = cases_df.apply( lambda x: 'Over 80 ' if x.age_bucket >= 80 else 'Under 80', axis=1)\n",
    "    cases_df['Type Origin'] = cases_df.apply( lambda x: str(x['CASE_CD']) + '_' + str(x['ORIGIN_CD']), axis=1)\n",
    "    cases_df['Type & Origin Desc'] = cases_df.apply( lambda x: str(x['CASE_DSC']) + ' & ' + str(x['ORIGIN_DSC']), axis=1)\n",
    "    cases_df['Case Length Over 30 Days'] = cases_df.apply( lambda x: True if x['case_length_days'] >= 30 else False, axis=1)\n",
    "    cases_df['Case Length Over 60 Days'] = cases_df.apply( lambda x: True if x['case_length_days'] >= 60 else False, axis=1)\n"
   ]
  },
  {
   "cell_type": "code",
   "execution_count": null,
   "id": "48a200cd",
   "metadata": {},
   "outputs": [],
   "source": [
    "data_file_path = r'C:\\Users\\mbeaulieu\\rsi_project_book\\Data\\\\'\n",
    "generated_data_file_path = r'C:\\Users\\mbeaulieu\\rsi_project_book\\Data\\\\'\n",
    "cases_df = get_processed_case_data(data_file_path)\n",
    "\n",
    "# cases_df = pd.read_csv(r'..\\cases_processed.csv',parse_dates=['BIRTHDATE','CASE_OPENED_DT','PREV_CASE_END_DT','LAST_STATUS_DATE'], dtype={'DRIVERS_LICENSE_NO': str})\n",
    "# cases_df = cases_df[cases_df['Ignore Case'] == 0]\n",
    "# cases_df = cases_df[cases_df['Is Adjudicated'] == 'Adjudicated']\n",
    "# cases_df['GENERAL_STATUS'].value_counts()"
   ]
  },
  {
   "cell_type": "code",
   "execution_count": null,
   "id": "1eb5a3d5",
   "metadata": {},
   "outputs": [],
   "source": [
    "#hideinput\n",
    "\n",
    "# def f(r):\n",
    "#     backlog_diff = r['Backlog Date'] - r['CASE_OPENED_DT']\n",
    "#     backlog_diff = backlog_diff/np.timedelta64(1,'M')\n",
    "#     last_update_diff = r['LAST_STATUS_DATE'] - r['Backlog Date'] # if same month then\n",
    "#     last_update_diff = last_update_diff/np.timedelta64(1,'M')\n",
    "#     if backlog_diff < 2:\n",
    "#         return 0\n",
    "#     elif last_update_diff <= 0 and backlog_diff < 3 :\n",
    "#         return 0\n",
    "#     elif ( (r['Backlog Date'].year == r['LAST_STATUS_DATE'].year ) \n",
    "#            and (r['Backlog Date'].month - r['LAST_STATUS_DATE'].month == 0 ) \n",
    "#            and ( r['GENERAL_STATUS'] == 'Closed')   \n",
    "#            and backlog_diff >= 2        \n",
    "#          ):\n",
    "#         return -1\n",
    "#     elif backlog_diff >= 2:\n",
    "#         return 1\n",
    "#     else:\n",
    "#         return 100\n",
    "\n",
    "# def f_isopen(r):\n",
    "#     status_diff = r['LAST_STATUS_DATE'] - r['CASE_OPENED_DT']\n",
    "#     status_diff = status_diff/np.timedelta64(1,'M')\n",
    "#     year_span_diff = r['Year Span'] - r['LAST_STATUS_DATE'] # if same month then\n",
    "#     year_span_diff = year_span_diff/np.timedelta64(1,'M')    \n",
    "# #     print(diff)\n",
    "# #     print(year_span_diff)\n",
    "#     if year_span_diff < 1 :\n",
    "#         return 'Open'\n",
    "#     else:\n",
    "#         return 'Closed'\n",
    "\n",
    "    \n",
    "def f_caseload_isopen(r):\n",
    "    \n",
    "    year_span_diff = r['Year Span'] - r['LAST_STATUS_DATE'] # if same month then\n",
    "    year_span_diff = year_span_diff/np.timedelta64(1,'M')    \n",
    "\n",
    "    status_diff = r['LAST_STATUS_DATE'] - r['CASE_OPENED_DT']\n",
    "    status_diff = status_diff/np.timedelta64(1,'M')\n",
    "\n",
    "    if r['GENERAL_STATUS'] == 'Open':\n",
    "        status = 'Open'\n",
    "        open_count = 1\n",
    "        closed_count = 0\n",
    "    else:\n",
    "        if year_span_diff <= 0:\n",
    "            status = 'Open'\n",
    "            open_count = 1\n",
    "            closed_count = 0\n",
    "        else:\n",
    "            status = 'Closed'\n",
    "            open_count = 0\n",
    "            closed_count = 1\n",
    "        \n",
    "    return (status, open_count, closed_count)\n"
   ]
  },
  {
   "cell_type": "code",
   "execution_count": null,
   "id": "bea11fe5",
   "metadata": {},
   "outputs": [],
   "source": [
    "#hideinput\n",
    "def build_range():\n",
    "    #r = pd.date_range(*(pd.to_datetime([datetime.strptime('1-1-2018', '%d-%m-%Y'), datetime.strptime('1-9-2021', '%d-%m-%Y')]) + pd.offsets.MonthEnd()), freq='M') \n",
    "    r = pd.date_range(*(pd.to_datetime([datetime.strptime('1-1-2018', '%d-%m-%Y'), datetime.strptime('1-11-2021', '%d-%m-%Y')]) + pd.offsets.MonthEnd()), freq='M') \n",
    "    return r\n",
    "\n",
    "def filter_data(d, year, month):\n",
    "    return d[(d.opened_year == year) & ( d.opened_month == month )].reset_index()\n",
    "\n",
    "def build_monthly_caseload(d, end_date, filename):\n",
    "    summaryfilename = filename.replace('.csv', '_Adjudicated_Summary.csv' ) #Jan_2018_toSept2021.csv\n",
    "    data = d[d['LAST_STATUS_DATE'].notna()].reset_index()\n",
    "    data['Year Date'] = end_date\n",
    "\n",
    "    data['Year Span'] = [pd.date_range(*(pd.to_datetime([s, e]) + pd.offsets.MonthEnd()), freq='M') for s, e in\n",
    "                  zip(pd.to_datetime(data['CASE_OPENED_DT']),\n",
    "                       pd.to_datetime(data['Year Date']))]\n",
    "\n",
    "    data = data.explode('Year Span')\n",
    "\n",
    "    if data.empty:\n",
    "        return None\n",
    "    \n",
    "    data[['Status', 'Open Count', 'Closed Count']] = data.apply( f_caseload_isopen   , axis=1).to_list()\n",
    "    data.to_csv(filename, index = False)\n",
    "    \n",
    "    # we have determined impact for each case, now aggregate numbers so we have the impact for the month of data\n",
    "\n",
    "\n",
    "    aggregation = {\n",
    "    'Open Count': ('Open Count','sum'),\n",
    "    'Closed Count': ('Closed Count','sum'),\n",
    "    'Case Count': ('DRIVERS_LICENSE_NO','count'),\n",
    "        'Status Count': ('STATUS_COUNT', 'sum')\n",
    "    }\n",
    "\n",
    "    monthly_counts = data.groupby([pd.Grouper(freq='M', key='CASE_OPENED_DT') , \n",
    "                                  pd.Grouper(key='Year Span'),\n",
    "                                  pd.Grouper(key='Status'),\n",
    "                                  pd.Grouper(key='Age Category'),                                   \n",
    "                                 ]).agg(** aggregation)\n",
    "    \n",
    "    monthly_counts = pd.DataFrame(monthly_counts).reset_index()\n",
    "    monthly_counts.to_csv(summaryfilename, index = False)\n",
    "    \n",
    "    return monthly_counts"
   ]
  },
  {
   "cell_type": "code",
   "execution_count": null,
   "id": "47c2da7d",
   "metadata": {},
   "outputs": [],
   "source": [
    "def generate_caseload_data(f_path):\n",
    "    caseload_data = pd.DataFrame()\n",
    "\n",
    "    r = build_range()\n",
    "    #for date in r[:2]:\n",
    "    for date in r:\n",
    "        if (date.year == r[-1].year) & (date.month == r[-1].month) : break\n",
    "\n",
    "        filename = generated_data_file_path + date.strftime(\"%b\") + '_' + date.strftime(\"%Y\") + '_' + 'toNov2021_ADJUDICATEDCASELOAD' + '.csv' \n",
    "\n",
    "        monthly_data = filter_data(cases_df, date.year, date.month)    \n",
    "\n",
    "        caseload_month = build_monthly_caseload(monthly_data,r[-1], filename)\n",
    "        \n",
    "        if caseload_month is None: \n",
    "            break\n",
    "        if caseload_data.empty:\n",
    "            caseload_data = caseload_month\n",
    "        else:\n",
    "            caseload_data = caseload_data.append(caseload_month)\n",
    "    \n",
    "    return caseload_data\n",
    "\n",
    "    "
   ]
  },
  {
   "cell_type": "code",
   "execution_count": null,
   "id": "e647662e",
   "metadata": {},
   "outputs": [],
   "source": [
    "if 0:\n",
    "    caseload_data = generate_caseload_data()\n",
    "    caseload_data['Cases_cumsum'] = caseload_data.groupby(['CASE_OPENED_DT','Year Span'])['Case Count'].cumsum()\n",
    "else:\n",
    "    caseload_data = False"
   ]
  },
  {
   "cell_type": "code",
   "execution_count": null,
   "id": "a2dcd90e",
   "metadata": {},
   "outputs": [
    {
     "data": {
      "text/plain": [
       "'Nothing to be done'"
      ]
     },
     "execution_count": null,
     "metadata": {},
     "output_type": "execute_result"
    }
   ],
   "source": [
    "if caseload_data:\n",
    "\n",
    "    aggregation = {\n",
    "         'Open Count': ('Open Count','sum')\n",
    "    }\n",
    "    jan_data = caseload_data[caseload_data['CASE_OPENED_DT'] == '2018-01-31']\n",
    "\n",
    "    backlog_data_byday = jan_data.groupby(['Year Span']) \\\n",
    "    .agg(** aggregation).reset_index()\n",
    "\n",
    "else:\n",
    "    backlog_data_byday = 'Nothing to be done'\n",
    "backlog_data_byday"
   ]
  },
  {
   "cell_type": "code",
   "execution_count": null,
   "id": "c3ca9ee9",
   "metadata": {},
   "outputs": [
    {
     "data": {
      "text/plain": [
       "'Nothing to be done'"
      ]
     },
     "execution_count": null,
     "metadata": {},
     "output_type": "execute_result"
    }
   ],
   "source": [
    "if  backlog_data_byday != 'Nothing to be done':\n",
    "    montly_backlog_all = alt.Chart(backlog_data_byday).mark_area(point=True).encode(\n",
    "        y = alt.Y(\"Open Count:Q\" ),\n",
    "        x = alt.X(\"Year Span:T\",  scale=alt.Scale(zero=False) ),\n",
    "    #   color = \"Year Span:N\",\n",
    "    #    tooltip=['Backlog Total']\n",
    "    ).properties(\n",
    "        width=700,\n",
    "        height=400\n",
    "    )\n",
    "else:\n",
    "    montly_backlog_all = backlog_data_byday\n",
    "\n",
    "montly_backlog_all"
   ]
  },
  {
   "cell_type": "code",
   "execution_count": null,
   "id": "15e0c8e7",
   "metadata": {},
   "outputs": [
    {
     "data": {
      "text/plain": [
       "'Nothing to be done'"
      ]
     },
     "execution_count": null,
     "metadata": {},
     "output_type": "execute_result"
    }
   ],
   "source": [
    "backlog_data_byday"
   ]
  },
  {
   "cell_type": "code",
   "execution_count": null,
   "id": "5f16d82b",
   "metadata": {},
   "outputs": [
    {
     "data": {
      "text/plain": [
       "'Nothing to be done'"
      ]
     },
     "execution_count": null,
     "metadata": {},
     "output_type": "execute_result"
    }
   ],
   "source": [
    "if  backlog_data_byday != 'Nothing to be done':\n",
    "    aggregation = {\n",
    "         'Open Count': ('Open Count','sum')\n",
    "    #     'Cases': ('Cases','sum'),\n",
    "    }\n",
    "\n",
    "    backlog_data_byday = jan_data.groupby(['Year Span', 'Age Category']) \\\n",
    "    .agg(** aggregation).reset_index()\n",
    "\n",
    "    montly_backlog_all = alt.Chart(backlog_data_byday).mark_area(point=True).encode(\n",
    "        y = alt.Y(\"sum(Open Count):Q\" ),\n",
    "        x = alt.X(\"Year Span:T\",  scale=alt.Scale(zero=False) ),\n",
    "       color = \"Age Category:N\",\n",
    "       tooltip=['sum(Open Count)']\n",
    "    ).properties(\n",
    "        width=700,\n",
    "        height=400\n",
    "    )\n",
    "else:\n",
    "    montly_backlog_all = backlog_data_byday\n",
    "\n",
    "montly_backlog_all\n"
   ]
  },
  {
   "cell_type": "code",
   "execution_count": null,
   "id": "ba3ac8d4",
   "metadata": {},
   "outputs": [
    {
     "data": {
      "text/plain": [
       "'Nothing to be done'"
      ]
     },
     "execution_count": null,
     "metadata": {},
     "output_type": "execute_result"
    }
   ],
   "source": [
    "if  backlog_data_byday != 'Nothing to be done':\n",
    "    aggregation = {\n",
    "         'Open Count': ('Open Count','sum'),\n",
    "       'Total Cases': ('Case Count','sum'),\n",
    "    }\n",
    "\n",
    "    backlog_data_byday = jan_data.groupby(['Year Span', 'Age Category','CASE_OPENED_DT']) \\\n",
    "    .agg(** aggregation).reset_index()\n",
    "\n",
    "    montly_backlog_all = alt.Chart(backlog_data_byday).mark_area(point=True).encode(\n",
    "        y = alt.Y(\"sum(Open Count):Q\" ),\n",
    "        x = alt.X(\"Year Span:T\",  scale=alt.Scale(zero=False) ),\n",
    "       color = \"CASE_OPENED_DT:N\",\n",
    "        tooltip=['CASE_OPENED_DT:T']\n",
    "    ).properties(\n",
    "        width=700,\n",
    "        height=400\n",
    "    )\n",
    "else:\n",
    "    montly_backlog_all = backlog_data_byday\n",
    "\n",
    "montly_backlog_all\n",
    "\n"
   ]
  },
  {
   "cell_type": "code",
   "execution_count": null,
   "id": "b519129f",
   "metadata": {},
   "outputs": [
    {
     "name": "stdout",
     "output_type": "stream",
     "text": [
      "Nothing to be done\n"
     ]
    }
   ],
   "source": [
    "if caseload_data:\n",
    "    filepath = generated_data_file_path + 'caseloaddata_by_month.csv' \n",
    "    caseload_data.to_csv(filepath, index = False)\n",
    "else:\n",
    "    print(montly_backlog_all)"
   ]
  },
  {
   "cell_type": "code",
   "execution_count": null,
   "id": "55bebf38",
   "metadata": {},
   "outputs": [
    {
     "name": "stdout",
     "output_type": "stream",
     "text": [
      "Converted 00_core.ipynb.\n",
      "Converted 01_core.baseline.ipynb.\n",
      "Converted 02_core.caseload.ipynb.\n",
      "No export destination, ignored:\n",
      "#exporti\n",
      "data_file_path = r'C:\\Users\\mbeaulieu\\rsi_project_book\\Data\\\\'\n",
      "cases2018_df = get_2018processed_case_data(data_file_path)\n",
      "\n",
      "Warning: Exporting to \"None.py\" but this module is not part of this build\n",
      "Converted 10. Cost Analysis Baseline - 2018 Over 80 Cases by Case Origin.ipynb.\n",
      "Converted 20. Caseload Modelling Introduction.ipynb.\n",
      "Converted 21. Caseload Modelling - Monthly Totals Cases Opened.ipynb.\n",
      "Converted 22. Caseload Modelling - Monthly Totals Cases Closed.ipynb.\n",
      "Converted index.ipynb.\n"
     ]
    }
   ],
   "source": [
    "#hide\n",
    "\n",
    "from nbdev.export import notebook2script; notebook2script()"
   ]
  }
 ],
 "metadata": {
  "kernelspec": {
   "display_name": "Python 3 (ipykernel)",
   "language": "python",
   "name": "python3"
  }
 },
 "nbformat": 4,
 "nbformat_minor": 5
}
