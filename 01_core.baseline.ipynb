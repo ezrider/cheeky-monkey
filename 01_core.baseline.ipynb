{
 "cells": [
  {
   "cell_type": "code",
   "execution_count": null,
   "metadata": {},
   "outputs": [],
   "source": [
    "# default_exp core.baseline"
   ]
  },
  {
   "cell_type": "markdown",
   "metadata": {},
   "source": [
    "## Baseline Analysis\n",
    "\n",
    "> We are using the adjudidicated cases from 2018 to differentiate the cases by their Origin.  Our first step is to determine if the they have different status counts.  The conclusion of this analysis will driver futher analysis of years where there were significant policy changes made due to COVID.\n"
   ]
  },
  {
   "cell_type": "markdown",
   "metadata": {},
   "source": [
    "In particular ..."
   ]
  },
  {
   "cell_type": "code",
   "execution_count": null,
   "metadata": {},
   "outputs": [],
   "source": [
    "#hide\n",
    "from nbdev.showdoc import *\n",
    "from fastcore.test import *\n",
    "\n",
    "file_path = r'C:\\Users\\mbeaulieu\\rsi_project_book\\Data\\\\'\n",
    "\n"
   ]
  },
  {
   "cell_type": "code",
   "execution_count": null,
   "metadata": {},
   "outputs": [],
   "source": [
    "#export\n",
    "import pandas as pd\n",
    "import altair as alt\n"
   ]
  },
  {
   "cell_type": "code",
   "execution_count": null,
   "metadata": {},
   "outputs": [],
   "source": [
    "#export\n",
    "ORIGIN_MAPPINGS = {\n",
    "        'DMER - DRIVER MEDICAL EXAMINATION REPORT': 'DMER', \n",
    "        'OTHER':'Other', \n",
    "        'PHYSICIAN':'Physician',\n",
    "        'PUBLIC/FAMILY': 'Public/Family', \n",
    "        'EVF - EXAM OF VISUAL FUNCTIONS': 'EVF',\n",
    "        'ICBC TRIGGER':'ICBC Trigger',\n",
    "        'ICBC':'ICBC',\n",
    "        'OTHER HEALTH PROFESSIONAL':'Other Health', \n",
    "        'POLICE':'Police', \n",
    "        'REHAB':'Rehab',\n",
    "        'DRIVER IMPROVEMENT PROGRAM':'Driver Improvement',\n",
    "        'DRIVER APPEAL REQUEST':'Appeal',\n",
    "        'SEAT BELT EXEMPTION APPLICATION':'Seat Belt',\n",
    "        'SPECIALIST REPORT':'Specialist Report',\n",
    "        'MLA ENQUIRY':'MLA Enquiry'    \n",
    "}\n"
   ]
  },
  {
   "cell_type": "code",
   "execution_count": null,
   "metadata": {},
   "outputs": [],
   "source": [
    "#export\n",
    "\n",
    "def get_fte_days_2018():\n",
    "# We created three lists, containing names, ages, and locations, holding our ordered data\n",
    "# We then created a Python zip() object, which contained the zips of names, ages, and locations. We then applied the list() function to turn this zip object into a list of tuples\n",
    "# We then passed this zipped object into our DataFrame() class, along with a list of our column names to create our dataframe.\n",
    "\n",
    "    months = ['Jan-2018', 'Feb-2018', 'Mar-2018', 'Apr-2018','May-2018', 'Jun-2018', 'Jul-2018', 'Aug-2018','Sep-2018', 'Oct-2018', 'Nov-2018', 'Dec-2018']\n",
    "    ftes = [376\n",
    "    ,311\n",
    "    ,361\n",
    "    ,332\n",
    "    ,394\n",
    "    ,360\n",
    "    ,335\n",
    "    ,366\n",
    "    ,323\n",
    "    ,380\n",
    "    ,335\n",
    "    ,281]\n",
    "\n",
    "\n",
    "    zipped = list(zip(months, ftes))\n",
    "    ftedays_df = pd.DataFrame(zipped, columns=['Month-Year', 'FTE (Days)'])\n",
    "    ftedays_df\n",
    "\n",
    "    d = ftedays_df.copy()\n",
    "    d.columns = ['Month', 'FTE (Days)']\n",
    "    \n",
    "    return d\n"
   ]
  },
  {
   "cell_type": "code",
   "execution_count": null,
   "metadata": {},
   "outputs": [],
   "source": [
    "#export\n",
    "def derive_statuscount_percase(df_in, ftedays_df):\n",
    "    FTE_DAYS_YEAR = ftedays_df['FTE (Days)'].sum()\n",
    "    print('FTE_DAYS_YEAR', FTE_DAYS_YEAR)\n",
    "    aggregation = {\n",
    "        'Case Count': ('STATUS_COUNT','size'),\n",
    "        'Total Status Change Count': ('STATUS_COUNT','sum')\n",
    "    }    \n",
    "\n",
    "    # df = df_in.groupby(['ORIGIN_DSC']) \\\n",
    "    # .agg(** aggregation).reset_index()\n",
    "\n",
    "    # aggregation = {\n",
    "    #     'Case Count': ('DRIVERS_LICENSE_NO','size'),\n",
    "    #     'Status Count': ('STATUS_COUNT','sum'),\n",
    "    #     }\n",
    "\n",
    "    df = df_in.groupby([pd.Grouper(freq='M', key='CASE_OPENED_DT') , \n",
    "                                pd.Grouper(key='ORIGIN_DSC'),                                   \n",
    "                                ]).agg(** aggregation)\n",
    "\n",
    "    df = pd.DataFrame(df).reset_index()\n",
    "\n",
    "    df['Opened Month'] = df.apply(lambda x: x['CASE_OPENED_DT'].strftime('%b') + '-' + x['CASE_OPENED_DT'].strftime('%Y'), axis=1)\n",
    "    \n",
    "    #case_summary_data['Total Cases in Group'] = case_summary_data.groupby(['Origin Report'])['Cases'].transform(lambda x: sum(x) )\n",
    "    df['Total Cases In Month'] = df.groupby(['CASE_OPENED_DT'])['Case Count'].transform( lambda x: sum(x))\n",
    "    df['Total Status Changes In Month'] = df.groupby(['CASE_OPENED_DT'])['Total Status Change Count'].transform( lambda x: sum(x))\n",
    "    df['Monthly Status Changes/Case'] = df.apply(lambda x: x['Total Status Changes In Month']/x['Total Cases In Month']  , axis=1)\n",
    "\n",
    "\n",
    "    df['Group Status Changes/Case'] = df.apply(lambda x: x['Total Status Change Count']/x['Case Count']  , axis=1)\n",
    "    #Month-Year\tFTE (Days)\n",
    "    df = pd.merge(df, ftedays_df, how='left',  left_on='Opened Month', right_on='Month')\n",
    "    #df = df[df['Is Adjudicated'] == 'Adjudicated']\n",
    "    print('df shape ', df.shape)\n",
    "    case_count = df['Case Count'].sum()\n",
    "    status_change_count = df['Total Status Change Count'].sum()\n",
    "\n",
    "    df['Group Case Count/FTE'] = df.apply(lambda x: x['Case Count']/x['FTE (Days)']  , axis=1)\n",
    "    df['Group Status Change/FTE'] = df.apply(lambda x: x['Total Status Change Count']/x['FTE (Days)']  , axis=1)\n",
    "\n",
    "\n",
    "    print(f\"Adjudicated Case Count for 2018: {case_count:,}\")\n",
    "    print(f\"Adjudicated Status Change Count for 2018: {status_change_count:,}\" )\n",
    "    print(f\"Average Status Change Count/Case: {status_change_count/case_count : .2f}\" )\n",
    "\n",
    "    print(f\"Adjudicated Cases/FTE Day: {case_count/FTE_DAYS_YEAR : .2f}\") \n",
    "    print(f\"Status Changes/FTE Day: { status_change_count/FTE_DAYS_YEAR: .2f}\")\n",
    "#    print(f\"Monthly Team Capacity (Status Changes) { (status_change_count/FTE_DAYS_YEAR) * FTE_DAYS_MONTH: ,.2f}\" )\n",
    "\n",
    "\n",
    "    ftedays_case_count = FTE_DAYS_YEAR/case_count\n",
    "    ftedays_status_change_count = FTE_DAYS_YEAR/status_change_count\n",
    "    print(f\"FTE Days/Adjudicated Case: {ftedays_case_count : .3f}\")\n",
    "    print(f\"FTE Days/Status Change {ftedays_status_change_count: .3f}\") \n",
    "\n",
    "    return (df, ftedays_case_count, ftedays_status_change_count )"
   ]
  },
  {
   "cell_type": "code",
   "execution_count": null,
   "metadata": {},
   "outputs": [],
   "source": [
    "#exports\n",
    "def example_exports_func():\n",
    "    pass\n",
    "\n"
   ]
  },
  {
   "cell_type": "code",
   "execution_count": null,
   "metadata": {},
   "outputs": [],
   "source": [
    "#exports\n",
    "def imgs_save(image):\n",
    "    pass\n",
    "\n"
   ]
  },
  {
   "cell_type": "code",
   "execution_count": null,
   "metadata": {},
   "outputs": [],
   "source": [
    "#export\n",
    "def get_statuses(f_path):\n",
    "    file_path = f_path + 'DFC_STATUSES.csv'\n",
    "    loadedstatus_df = pd.read_csv(file_path)\n",
    "    loadedstatus_df = loadedstatus_df.sort_values(by = 'STATUS_CD')\n",
    "    status_df = loadedstatus_df.drop(columns = ['ACTIVE_YN','UPDATE_RULE','DECISION_CODE','GROUP_ASSIGNMENT'])\n",
    "    return status_df"
   ]
  },
  {
   "cell_type": "code",
   "execution_count": null,
   "metadata": {},
   "outputs": [],
   "source": []
  },
  {
   "cell_type": "code",
   "execution_count": null,
   "metadata": {},
   "outputs": [],
   "source": [
    "\n",
    "#export\n",
    "def get_processed_case_data(f_path):\n",
    "    \n",
    "    file_path = f_path + 'cases_processed.csv'\n",
    "    cases_df = pd.read_csv(file_path,parse_dates=['BIRTHDATE','CASE_OPENED_DT','PREV_CASE_END_DT','LAST_STATUS_DATE'], dtype={'DRIVERS_LICENSE_NO': str})\n",
    "    cases_df = cases_df[(cases_df['Ignore Case'] == 0) ]\n",
    "    \n",
    "    cases_df = cases_df[(cases_df['Is Adjudicated'] == 'Adjudicated') & (cases_df['age_bucket'] >= 80)].reset_index()\n",
    "\n",
    "    cases_df['Origin Report'] = cases_df.apply( lambda x: ORIGIN_MAPPINGS[x['ORIGIN_DSC']] , axis=1)\n",
    "\n",
    "    cases_df['Origin & Decision'] = cases_df.apply( lambda x: str(x['Origin Report']) + ' & ' + str(x['DECISION_DSC']), axis=1)\n",
    "\n",
    "    cases_df['First & Second Status'] = cases_df.apply( lambda x: str(x['FIRSTSTATUSCD']) + '_' + str(x['SECOND_CASE_STATUS_CD']), axis=1)\n",
    "\n",
    "    cases_df['DOCUMENT_COUNT'] = cases_df['DOCUMENT_COUNT'].fillna(0)\n",
    "\n",
    "    return cases_df\n",
    "\n",
    "    \n",
    "\n"
   ]
  },
  {
   "cell_type": "code",
   "execution_count": null,
   "metadata": {},
   "outputs": [],
   "source": [
    "\n",
    "#export\n",
    "def get_2018processed_case_data(f_path):\n",
    "    \n",
    "#     file_path = f_path + 'cases_processed.csv'\n",
    "#     cases_df = pd.read_csv(file_path,parse_dates=['BIRTHDATE','CASE_OPENED_DT','PREV_CASE_END_DT','LAST_STATUS_DATE'], dtype={'DRIVERS_LICENSE_NO': str})\n",
    "#     cases_df = cases_df[(cases_df['Ignore Case'] == 0) ]\n",
    "    cases_df = get_processed_case_data\n",
    "    cases2018_df = cases_df[cases_df.opened_year == 2018].reset_index()\n",
    "\n",
    "#     cases2018_df = cases2018_df[(cases2018_df['Is Adjudicated'] == 'Adjudicated') & (cases2018_df['age_bucket'] >= 80)].reset_index()\n",
    "\n",
    "#     cases2018_df['Origin Report'] = cases2018_df.apply( lambda x: ORIGIN_MAPPINGS[x['ORIGIN_DSC']] , axis=1)\n",
    "\n",
    "#     cases2018_df['Origin & Decision'] = cases2018_df.apply( lambda x: str(x['Origin Report']) + ' & ' + str(x['DECISION_DSC']), axis=1)\n",
    "\n",
    "#     cases2018_df['First & Second Status'] = cases2018_df.apply( lambda x: str(x['FIRSTSTATUSCD']) + '_' + str(x['SECOND_CASE_STATUS_CD']), axis=1)\n",
    "\n",
    "#     cases2018_df['DOCUMENT_COUNT'] = cases2018_df['DOCUMENT_COUNT'].fillna(0)\n",
    "\n",
    "    status_df = get_statuses(f_path)\n",
    "\n",
    "    status_df.columns = ['SECOND_STATUS_CD', 'Second Status Desc']\n",
    "    cases2018_df = pd.merge(cases2018_df, status_df, left_on='SECOND_CASE_STATUS_CD', right_on='SECOND_STATUS_CD' )\n",
    "\n",
    "    status_df.columns = ['INITIALSTATUSCD', 'Initial Status Desc']\n",
    "    cases2018_df = pd.merge(cases2018_df, status_df, left_on='FIRSTSTATUSCD', right_on='INITIALSTATUSCD' )\n",
    "\n",
    "    cases2018_df['First & Second Status Descriptions'] = cases2018_df.apply( lambda x: str(x['Initial Status Desc']) + ' ==> ' + str(x['Second Status Desc']), axis=1)\n",
    "\n",
    "\n",
    "    cases2018_df = cases2018_df.drop(columns = ['INITIALSTATUSCD', 'SECOND_STATUS_CD'])\n",
    "\n",
    "\n",
    "    \n",
    "    return cases2018_df\n",
    "\n"
   ]
  },
  {
   "cell_type": "code",
   "execution_count": null,
   "metadata": {},
   "outputs": [],
   "source": [
    "#hide\n",
    "df = get_fte_days_2018()\n",
    "test_eq( df.shape, (12,2))\n",
    "\n"
   ]
  },
  {
   "cell_type": "code",
   "execution_count": null,
   "metadata": {},
   "outputs": [],
   "source": [
    "#hide\n",
    "s = get_statuses(file_path)\n"
   ]
  },
  {
   "cell_type": "code",
   "execution_count": null,
   "metadata": {},
   "outputs": [],
   "source": []
  },
  {
   "cell_type": "code",
   "execution_count": null,
   "metadata": {},
   "outputs": [
    {
     "name": "stdout",
     "output_type": "stream",
     "text": [
      "Converted 00_core.ipynb.\n",
      "Converted 01_core.baseline.ipynb.\n",
      "Converted 02_core.caseload.ipynb.\n",
      "No export destination, ignored:\n",
      "#exporti\n",
      "data_file_path = r'C:\\Users\\mbeaulieu\\rsi_project_book\\Data\\\\'\n",
      "cases2018_df = get_2018processed_case_data(data_file_path)\n",
      "\n",
      "Warning: Exporting to \"None.py\" but this module is not part of this build\n",
      "Converted 10. Cost Analysis Baseline - 2018 Over 80 Cases by Case Origin.ipynb.\n",
      "Converted 20. Caseload Modelling Introduction.ipynb.\n",
      "Converted 21. Caseload Modelling - Monthly Totals Cases Opened.ipynb.\n",
      "Converted index.ipynb.\n"
     ]
    }
   ],
   "source": [
    "#hide\n",
    "\n",
    "from nbdev.export import notebook2script; notebook2script()"
   ]
  }
 ],
 "metadata": {
  "kernelspec": {
   "display_name": "Python 3 (ipykernel)",
   "language": "python",
   "name": "python3"
  }
 },
 "nbformat": 4,
 "nbformat_minor": 2
}
